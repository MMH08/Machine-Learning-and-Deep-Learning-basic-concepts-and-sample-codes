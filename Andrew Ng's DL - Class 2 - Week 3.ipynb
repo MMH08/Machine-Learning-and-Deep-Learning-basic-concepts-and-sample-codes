{
 "cells": [
  {
   "cell_type": "markdown",
   "metadata": {},
   "source": [
    "## 3.1 Basic tensorflow operations\n",
    "### 3.1.1 Execution flow\n",
    "- Step 1: construct the **computation graph** with various tensorflow operations.\n",
    "- Step 2: execute the computation graph with `tf.Session()`.\n",
    "\n",
    "### 3.1.2 Comput the cost\n",
    "\n",
    "`tf.nn.sigmoid_cross_entropy_with_logits(labels=y, logits=a)` which computes \n",
    "$$- \\frac{1}{m}  \\sum_{i = 1}^m  \\large ( \\small y^{(i)} \\log \\sigma(z^{[2](i)}) + (1-y^{(i)})\\log (1-\\sigma(z^{[2](i)})\\large )\\small$$"
   ]
  },
  {
   "cell_type": "code",
   "execution_count": null,
   "metadata": {
    "collapsed": true
   },
   "outputs": [],
   "source": []
  }
 ],
 "metadata": {
  "kernelspec": {
   "display_name": "Python 3",
   "language": "python",
   "name": "python3"
  },
  "language_info": {
   "codemirror_mode": {
    "name": "ipython",
    "version": 3
   },
   "file_extension": ".py",
   "mimetype": "text/x-python",
   "name": "python",
   "nbconvert_exporter": "python",
   "pygments_lexer": "ipython3",
   "version": "3.6.0"
  }
 },
 "nbformat": 4,
 "nbformat_minor": 2
}
