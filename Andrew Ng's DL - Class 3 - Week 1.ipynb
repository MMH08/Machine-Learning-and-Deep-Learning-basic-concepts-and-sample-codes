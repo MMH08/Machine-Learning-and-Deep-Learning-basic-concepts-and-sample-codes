{
 "cells": [
  {
   "cell_type": "markdown",
   "metadata": {
    "collapsed": true
   },
   "source": [
    "## 1.1 Machine learning strategy\n",
    "## 1.2 Orthogonalization\n",
    "From wikipedia: In linear algebra, **orthogonalization** is the process of finding a set of orthogonal vectors that span a particular subspace.  \n",
    "For machine learning, orthogonalization ensures that modifying a component of an algorithm will not create side effects to other components of the system."
   ]
  },
  {
   "cell_type": "markdown",
   "metadata": {},
   "source": [
    "## 1.3 Single value evaluation metric\n",
    "### Precision\n",
    "precision = True Positive / (True Positive + False Positive)\n",
    "### Recall\n",
    "recall = True Positive / (True positive + False Negative)\n",
    "### F1\n",
    "F1 = 2 / (1/P + 1/R)"
   ]
  },
  {
   "cell_type": "markdown",
   "metadata": {},
   "source": [
    "## 1.4 Optimizing and satisficing metric\n",
    "If we have several evaluation metrics, we can set one metric as optimizing metric (such as accuracy) and others as satisficing metrics (such as running time etc)."
   ]
  },
  {
   "cell_type": "markdown",
   "metadata": {},
   "source": [
    "## 1.5 Training, develpoment and testing dataset\n",
    "### 1.5.1 dataset building\n",
    "Development dataset and testing dataset should have the **same distribution** and be taken **randomly** from the whole data.\n",
    "### 1.5.2 dataset size\n",
    "Rule of thumb:  \n",
    "when the size of whole dataset is not large, **60% training + 20% development + 20% testing**.  \n",
    "when you have big data, the proportion does not matter too much, but the size of development and testing dataset **should be large enough** to give better model."
   ]
  },
  {
   "cell_type": "code",
   "execution_count": null,
   "metadata": {
    "collapsed": true
   },
   "outputs": [],
   "source": []
  }
 ],
 "metadata": {
  "kernelspec": {
   "display_name": "Python 3",
   "language": "python",
   "name": "python3"
  },
  "language_info": {
   "codemirror_mode": {
    "name": "ipython",
    "version": 3
   },
   "file_extension": ".py",
   "mimetype": "text/x-python",
   "name": "python",
   "nbconvert_exporter": "python",
   "pygments_lexer": "ipython3",
   "version": "3.6.0"
  }
 },
 "nbformat": 4,
 "nbformat_minor": 2
}
