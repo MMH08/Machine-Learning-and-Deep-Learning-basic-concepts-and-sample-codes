{
 "cells": [
  {
   "cell_type": "markdown",
   "metadata": {},
   "source": [
    "## 1.1 Training set, validation set and test set\n",
    "\n",
    "- **Training set**: tune the model parameters. 60% of whole data set.\n",
    "- **Validation set**: i.e., development set. Select hyper-parameters (i.e., different models) to avoid overfitting. 20% of whole data set.\n",
    "- **Test set**: report the performance of trained model. 20% of whole data set.\n",
    "\n",
    "**Note**:\n",
    "- **Validation set** is not exactly needed.\n",
    "- **Validation set** and **Test set** should follow the **same distribution**.\n",
    "\n",
    "reference:  \n",
    "https://stackoverflow.com/questions/2976452/whats-is-the-difference-between-train-validation-and-test-set-in-neural-netwo"
   ]
  },
  {
   "cell_type": "markdown",
   "metadata": {},
   "source": [
    "## 1.2 Bias and variance tradeoff\n",
    "- **Total Error = Bias + Variance + Irreducible Error**\n",
    "- Bias: under-fitting\n",
    "- Variance: over-fitting\n",
    "\n",
    "### Bias and variance illustration\n",
    "![](https://github.com/gaoisbest/Machine-Learning-and-Deep-Learning-basic-concepts-and-sample-codes/blob/master/Andrew_Ng_images/Class_2_week_1/Bias_variance.png)\n",
    "\n",
    "reference:  \n",
    "http://scott.fortmann-roe.com/docs/BiasVariance.html\n",
    "\n",
    "\n",
    "### The relationship between model complexity and error\n",
    "\n",
    "![](https://github.com/gaoisbest/Machine-Learning-and-Deep-Learning-basic-concepts-and-sample-codes/blob/master/Andrew_Ng_images/Class_2_week_1/Error_complexity.png)\n",
    "\n",
    "#### How to detect high bias ?\n",
    "- Training error is high.\n",
    "- Validation error has **similar magnitude** to training error.\n",
    "\n",
    "#### How to detect high variance ?\n",
    "- Training error is low.\n",
    "- Validation error is **very high**.\n",
    "\n",
    "### How to solve the problem ?\n",
    "![](https://github.com/gaoisbest/Machine-Learning-and-Deep-Learning-basic-concepts-and-sample-codes/blob/master/Andrew_Ng_images/Class_2_week_1/Under_over_fitting_solution.png)\n",
    "\n",
    "reference:  \n",
    "http://www.learnopencv.com/bias-variance-tradeoff-in-machine-learning/"
   ]
  },
  {
   "cell_type": "code",
   "execution_count": null,
   "metadata": {
    "collapsed": true
   },
   "outputs": [],
   "source": []
  }
 ],
 "metadata": {
  "kernelspec": {
   "display_name": "Python 3",
   "language": "python",
   "name": "python3"
  },
  "language_info": {
   "codemirror_mode": {
    "name": "ipython",
    "version": 3
   },
   "file_extension": ".py",
   "mimetype": "text/x-python",
   "name": "python",
   "nbconvert_exporter": "python",
   "pygments_lexer": "ipython3",
   "version": "3.6.0"
  }
 },
 "nbformat": 4,
 "nbformat_minor": 2
}
