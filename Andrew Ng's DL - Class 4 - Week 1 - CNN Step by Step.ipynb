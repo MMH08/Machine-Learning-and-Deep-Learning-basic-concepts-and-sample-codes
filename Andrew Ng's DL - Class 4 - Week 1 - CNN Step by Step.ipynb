{
 "cells": [
  {
   "cell_type": "markdown",
   "metadata": {},
   "source": [
    "## Padding\n",
    "The benefits of padding:\n",
    "- It helps us keep more of the information at the border of an image. \n",
    "- It allows you to use a CONV layer without necessarily shrinking the height and width of the volumes."
   ]
  },
  {
   "cell_type": "code",
   "execution_count": 19,
   "metadata": {
    "collapsed": false
   },
   "outputs": [
    {
     "name": "stdout",
     "output_type": "stream",
     "text": [
      "(5, 7, 5, 11, 5)\n"
     ]
    }
   ],
   "source": [
    "import numpy as np\n",
    "\n",
    "# Pad the array \"a\" of shape $(5,5,5,5,5)$ with `pad = 1` for the 2nd dimension, `pad = 3` for the 4th dimension and `pad = 0` for the rest\n",
    "a = np.random.randn(5, 5, 5, 5, 5)\n",
    "a = np.pad(a, ((0,0), (1,1), (0,0), (3,3), (0,0)), 'constant')\n",
    "print(a.shape) # (5, 7, 5, 11, 5)"
   ]
  },
  {
   "cell_type": "markdown",
   "metadata": {},
   "source": [
    "## Convolution\n",
    "- One filter contributes to one feature map.\n",
    "\n",
    "The formulas relating the output shape of the convolution to the input shape is:\n",
    "$$ n_H = \\lfloor \\frac{n_{H_{prev}} - f + 2 \\times pad}{stride} \\rfloor +1 $$\n",
    "$$ n_W = \\lfloor \\frac{n_{W_{prev}} - f + 2 \\times pad}{stride} \\rfloor +1 $$\n",
    "$$ n_C = \\text{number of filters used in the convolution}$$"
   ]
  },
  {
   "cell_type": "markdown",
   "metadata": {},
   "source": [
    "## Pooling\n",
    "It helps reduce computation, as well as helps make feature detectors **more invariant to its position** in the input.  \n",
    "\n",
    "It will not reduce the number of channels.  \n",
    "\n",
    "The two types of pooling are: \n",
    "- Max-pooling\n",
    "- Average-pooling"
   ]
  },
  {
   "cell_type": "markdown",
   "metadata": {},
   "source": [
    "## Numpy syntax\n",
    "Note the **slicing** way will **retain the dimension**:"
   ]
  },
  {
   "cell_type": "code",
   "execution_count": 2,
   "metadata": {
    "collapsed": true
   },
   "outputs": [],
   "source": [
    "# a has two elements, and the shape of each element is (3, 3, 4)\n",
    "a = np.random.randn(2,3,3,4)\n",
    "print(a.shape) # (2, 3, 3, 4)\n",
    "\n",
    "# first element of a\n",
    "print(a[1].shape) # (3, 3, 4)\n",
    "\n",
    "# another way\n",
    "print(a[1,:,:,:].shape) # (3, 3, 4)\n",
    "\n",
    "# note that slicing will retain the dimension\n",
    "print(a[1:2,:,:,:].shape) # (1, 3, 3, 4)\n",
    "\n",
    "\n",
    "# last dimension\n",
    "a[..., 1] == a[:,:,:,1]"
   ]
  },
  {
   "cell_type": "code",
   "execution_count": null,
   "metadata": {
    "collapsed": true
   },
   "outputs": [],
   "source": []
  }
 ],
 "metadata": {
  "kernelspec": {
   "display_name": "Python 3",
   "language": "python",
   "name": "python3"
  },
  "language_info": {
   "codemirror_mode": {
    "name": "ipython",
    "version": 3
   },
   "file_extension": ".py",
   "mimetype": "text/x-python",
   "name": "python",
   "nbconvert_exporter": "python",
   "pygments_lexer": "ipython3",
   "version": "3.6.0"
  }
 },
 "nbformat": 4,
 "nbformat_minor": 2
}
