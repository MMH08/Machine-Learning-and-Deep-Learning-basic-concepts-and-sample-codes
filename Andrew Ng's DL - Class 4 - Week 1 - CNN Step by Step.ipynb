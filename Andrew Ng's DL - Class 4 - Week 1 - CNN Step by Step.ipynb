{
 "cells": [
  {
   "cell_type": "markdown",
   "metadata": {},
   "source": [
    "## Convolution\n",
    "- Steps: **Convolution** -> **Add bias** -> **ReLU**\n",
    "- Two types:\n",
    "    - Valid: no padding.\n",
    "    - Same: output size is equal to input size.\n",
    "- Filter\n",
    "    - One filter contributes to **one feature map**.\n",
    "    - Filter size is usually **odd**.\n",
    "    - The filter and previous layer must have the **same number of channels**.\n",
    "\n",
    "- The formulas relating the output shape of the convolution to the input shape is:\n",
    "$$ n_H = \\lfloor \\frac{n_{H_{prev}} - f + 2 \\times pad}{stride} \\rfloor +1 $$\n",
    "$$ n_W = \\lfloor \\frac{n_{W_{prev}} - f + 2 \\times pad}{stride} \\rfloor +1 $$\n",
    "$$ n_C = \\text{number of filters (i.e., number of channels) used in the convolution}$$\n",
    "\n",
    "- As the increase of the number of layers, $n_H$ and $n_W$ are more and more smaller, but $n_C$ are more and more larger."
   ]
  },
  {
   "cell_type": "markdown",
   "metadata": {},
   "source": [
    "## Padding\n",
    "\n",
    "The benefits of padding:\n",
    "- It helps us keep more of the information at the border of an image. \n",
    "- It allows you to use a CONV layer without necessarily shrinking the height and width of the volumes."
   ]
  },
  {
   "cell_type": "code",
   "execution_count": 19,
   "metadata": {
    "collapsed": false
   },
   "outputs": [
    {
     "name": "stdout",
     "output_type": "stream",
     "text": [
      "(5, 7, 5, 11, 5)\n"
     ]
    }
   ],
   "source": [
    "import numpy as np\n",
    "\n",
    "# Pad the array \"a\" of shape $(5,5,5,5,5)$ with `pad = 1` for the 2nd dimension, `pad = 3` for the 4th dimension and `pad = 0` for the rest\n",
    "a = np.random.randn(5, 5, 5, 5, 5)\n",
    "a = np.pad(a, ((0,0), (1,1), (0,0), (3,3), (0,0)), 'constant')\n",
    "print(a.shape) # (5, 7, 5, 11, 5)"
   ]
  },
  {
   "cell_type": "markdown",
   "metadata": {},
   "source": [
    "## Pooling\n",
    "It helps reduce computation, as well as helps make feature detectors **more invariant to its position** in the input.  \n",
    "\n",
    "It operates on each channel independently, so it will **not reduce** the number of channels.\n",
    "\n",
    "**No trainable parameters** in pooling layer.\n",
    "\n",
    "The two types of pooling are: \n",
    "- Max-pooling\n",
    "- Average-pooling"
   ]
  },
  {
   "cell_type": "markdown",
   "metadata": {},
   "source": [
    "## Fully connected\n",
    "Flatten the convolution layer to one vector.\n",
    "\n",
    "If the activation size (i.e., length of the flatten vector) drops too quickly, it will downside the model performance."
   ]
  },
  {
   "cell_type": "markdown",
   "metadata": {},
   "source": [
    "## How to compute the number of layers in CNN ?\n",
    "**Layer** definition: it should have trainable parameters.\n",
    "\n",
    "Let **[CONV + POOL]** be one layer, since pooling layer does not have trainable parameters."
   ]
  },
  {
   "cell_type": "markdown",
   "metadata": {},
   "source": [
    "## What's the advantages of CNN compared to NN ?\n",
    "- **Parameter sharing**: a filter is useful in one part of the image is probably useful in another part of the image.\n",
    "- **Local connection**: the input is part."
   ]
  },
  {
   "cell_type": "markdown",
   "metadata": {},
   "source": [
    "## Numpy syntax\n",
    "Note the **slicing** way will **retain the dimension**:"
   ]
  },
  {
   "cell_type": "code",
   "execution_count": 2,
   "metadata": {
    "collapsed": true
   },
   "outputs": [],
   "source": [
    "# a has two elements, and the shape of each element is (3, 3, 4)\n",
    "a = np.random.randn(2,3,3,4)\n",
    "print(a.shape) # (2, 3, 3, 4)\n",
    "\n",
    "# first element of a\n",
    "print(a[1].shape) # (3, 3, 4)\n",
    "\n",
    "# another way\n",
    "print(a[1,:,:,:].shape) # (3, 3, 4)\n",
    "\n",
    "# note that slicing will retain the dimension\n",
    "print(a[1:2,:,:,:].shape) # (1, 3, 3, 4)\n",
    "\n",
    "\n",
    "# last dimension\n",
    "a[..., 1] == a[:,:,:,1]"
   ]
  }
 ],
 "metadata": {
  "kernelspec": {
   "display_name": "Python 3",
   "language": "python",
   "name": "python3"
  },
  "language_info": {
   "codemirror_mode": {
    "name": "ipython",
    "version": 3
   },
   "file_extension": ".py",
   "mimetype": "text/x-python",
   "name": "python",
   "nbconvert_exporter": "python",
   "pygments_lexer": "ipython3",
   "version": "3.6.0"
  }
 },
 "nbformat": 4,
 "nbformat_minor": 2
}
